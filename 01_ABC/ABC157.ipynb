{
 "cells": [
  {
   "cell_type": "markdown",
   "metadata": {},
   "source": [
    "# ABC157\n",
    "## A\n",
    "### Duplex Printing [問題](https://atcoder.jp/contests/abc157/tasks/abc157_a)"
   ]
  },
  {
   "cell_type": "code",
   "execution_count": null,
   "metadata": {},
   "outputs": [],
   "source": [
    "n = int(input())\n",
    "print(-(-n // 2))"
   ]
  },
  {
   "cell_type": "markdown",
   "metadata": {},
   "source": [
    "## B\n",
    "### Bingo [問題](https://atcoder.jp/contests/abc157/tasks/abc157_b)"
   ]
  },
  {
   "cell_type": "code",
   "execution_count": 13,
   "metadata": {},
   "outputs": [
    {
     "name": "stdin",
     "output_type": "stream",
     "text": [
      " 41 7 46\n",
      " 26 89 2\n",
      " 78 92 8\n",
      " 5\n",
      " 6\n",
      " 45\n",
      " 16\n",
      " 57\n",
      " 17\n"
     ]
    },
    {
     "name": "stdout",
     "output_type": "stream",
     "text": [
      "No\n"
     ]
    }
   ],
   "source": [
    "def is_b(l):\n",
    "    return all([a[i][j] in b for i, j in l])\n",
    "\n",
    "a = [list(map(int, input().split())) for i in range(3)]\n",
    "n = int(input())\n",
    "b = [int(input()) for i in range(n)]\n",
    "t = [[(i, j) for j in range(3)] for i in range(3)]\n",
    "t += [[(j, i) for j in range(3)] for i in range(3)]\n",
    "t += [[(i, i) for i in range(3)]] + [[(2 - i, i) for i in range(3)]]\n",
    "print('Yes' if any([is_b(ti) for ti in t]) else 'No')"
   ]
  },
  {
   "cell_type": "markdown",
   "metadata": {},
   "source": [
    "## C\n",
    "### Guess The Number [問題](https://atcoder.jp/contests/abc157/tasks/abc157_c)"
   ]
  },
  {
   "cell_type": "code",
   "execution_count": 3,
   "metadata": {},
   "outputs": [
    {
     "name": "stdin",
     "output_type": "stream",
     "text": [
      " 3 3\n",
      " 1 7\n",
      " 3 2\n",
      " 1 7\n"
     ]
    },
    {
     "name": "stdout",
     "output_type": "stream",
     "text": [
      "702\n"
     ]
    }
   ],
   "source": [
    "n, m = map(int, input().split())\n",
    "sc = [tuple(map(int, input().split())) for j in range(m)]\n",
    "for i in range(10**n):\n",
    "    if len(str(i)) == n and all(str(i)[s - 1] == str(c) for s, c in sc):\n",
    "        print(i)\n",
    "        break\n",
    "else:\n",
    "    print(-1)"
   ]
  },
  {
   "cell_type": "markdown",
   "metadata": {},
   "source": [
    "## D\n",
    "### Friend Suggestions [問題](https://atcoder.jp/contests/abc157/tasks/abc157_d)"
   ]
  },
  {
   "cell_type": "code",
   "execution_count": 6,
   "metadata": {},
   "outputs": [
    {
     "name": "stdin",
     "output_type": "stream",
     "text": [
      " 10 9 3\n",
      " 10 1\n",
      " 6 7\n",
      " 8 2\n",
      " 2 5\n",
      " 8 4\n",
      " 7 3\n",
      " 10 9\n",
      " 6 4\n",
      " 5 8\n",
      " 2 6\n",
      " 7 5\n",
      " 3 1\n"
     ]
    },
    {
     "name": "stdout",
     "output_type": "stream",
     "text": [
      "1 3 5 4 3 3 3 3 1 0\n"
     ]
    }
   ],
   "source": [
    "# UnionFind: https://note.nkmk.me/python-union-find/\n",
    "class UnionFind():\n",
    "    def __init__(self, n):\n",
    "        self.n = n\n",
    "        self.root = [-1] * (n + 1)\n",
    "        \n",
    "    def find(self, x):\n",
    "        if self.root[x] < 0:\n",
    "            return x\n",
    "        else:\n",
    "            self.root[x] = self.find(self.root[x])\n",
    "            return self.root[x]\n",
    "    \n",
    "    def unite(self, x, y):\n",
    "        x = self.find(x)\n",
    "        y = self.find(y)\n",
    "        if x == y:\n",
    "            return False\n",
    "        if self.root[x] > self.root[y]:\n",
    "            x, y = y, x\n",
    "        self.root[x] += self.root[y]\n",
    "        self.root[y] = x\n",
    "        \n",
    "    def is_same(self, x, y):\n",
    "        return self.find(x) == self.find(y)\n",
    "    \n",
    "    def size(self, x):\n",
    "        return -self.root[self.find(x)]\n",
    "    \n",
    "n, m, k = map(int, input().split())\n",
    "friends = UnionFind(n)\n",
    "f_or_b = [1] * (n + 1)\n",
    "for i in range(m):\n",
    "    a, b = map(int, input().split())\n",
    "    friends.unite(a, b)\n",
    "    f_or_b[a] += 1\n",
    "    f_or_b[b] += 1\n",
    "for i in range(k):\n",
    "    c, d = map(int, input().split())\n",
    "    if friends.is_same(c, d):\n",
    "        f_or_b[c] += 1\n",
    "        f_or_b[d] += 1\n",
    "print(*[friends.size(i) - f_or_b[i] for i in range(1, n + 1)])"
   ]
  }
 ],
 "metadata": {
  "kernelspec": {
   "display_name": "Python 3",
   "language": "python",
   "name": "python3"
  },
  "language_info": {
   "codemirror_mode": {
    "name": "ipython",
    "version": 3
   },
   "file_extension": ".py",
   "mimetype": "text/x-python",
   "name": "python",
   "nbconvert_exporter": "python",
   "pygments_lexer": "ipython3",
   "version": "3.7.4"
  }
 },
 "nbformat": 4,
 "nbformat_minor": 4
}
