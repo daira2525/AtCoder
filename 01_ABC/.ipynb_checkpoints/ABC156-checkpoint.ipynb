{
 "cells": [
  {
   "cell_type": "markdown",
   "metadata": {},
   "source": [
    "# ABC156\n",
    "## A\n",
    "### Beginner [問題](https://atcoder.jp/contests/abc156/tasks/abc156_a)"
   ]
  },
  {
   "cell_type": "code",
   "execution_count": 61,
   "metadata": {},
   "outputs": [
    {
     "name": "stdin",
     "output_type": "stream",
     "text": [
      " 22 3051\n"
     ]
    },
    {
     "name": "stdout",
     "output_type": "stream",
     "text": [
      "3051\n"
     ]
    }
   ],
   "source": [
    "n, r = map(int, input().split())\n",
    "print(r + max(0, 100*(10 - n)))"
   ]
  },
  {
   "cell_type": "code",
   "execution_count": null,
   "metadata": {},
   "outputs": [],
   "source": [
    "n, r = map(int, input().split())\n",
    "print(r + 100*(10 - min(10, n)))"
   ]
  },
  {
   "cell_type": "markdown",
   "metadata": {},
   "source": [
    "## B\n",
    "### Digits [問題](https://atcoder.jp/contests/abc156/tasks/abc156_b)"
   ]
  },
  {
   "cell_type": "code",
   "execution_count": 67,
   "metadata": {},
   "outputs": [
    {
     "name": "stdin",
     "output_type": "stream",
     "text": [
      " 314159265 3\n"
     ]
    },
    {
     "name": "stdout",
     "output_type": "stream",
     "text": [
      "18\n"
     ]
    }
   ],
   "source": [
    "n, k = map(int, input().split())\n",
    "cnt = 0\n",
    "while n:\n",
    "    n //= k\n",
    "    cnt += 1\n",
    "print(cnt)"
   ]
  },
  {
   "cell_type": "code",
   "execution_count": 74,
   "metadata": {},
   "outputs": [
    {
     "name": "stdin",
     "output_type": "stream",
     "text": [
      " 16 2\n"
     ]
    },
    {
     "name": "stdout",
     "output_type": "stream",
     "text": [
      "5\n"
     ]
    }
   ],
   "source": [
    "from math import log\n",
    "n, k = map(int, input().split())\n",
    "print(int(log(n, k)) + 1)"
   ]
  },
  {
   "cell_type": "markdown",
   "metadata": {},
   "source": [
    "## C\n",
    "### Rally [問題](https://atcoder.jp/contests/abc156/tasks/abc156_c)"
   ]
  },
  {
   "cell_type": "code",
   "execution_count": 6,
   "metadata": {},
   "outputs": [
    {
     "name": "stdin",
     "output_type": "stream",
     "text": [
      " 7\n",
      " 14 14 2 13 56 2 37\n"
     ]
    },
    {
     "name": "stdout",
     "output_type": "stream",
     "text": [
      "2354\n"
     ]
    }
   ],
   "source": [
    "n = int(input())\n",
    "x = list(map(int, input().split()))\n",
    "print(sum((xi - round(sum(x)/n))**2 for xi in x))"
   ]
  }
 ],
 "metadata": {
  "kernelspec": {
   "display_name": "Python 3",
   "language": "python",
   "name": "python3"
  },
  "language_info": {
   "codemirror_mode": {
    "name": "ipython",
    "version": 3
   },
   "file_extension": ".py",
   "mimetype": "text/x-python",
   "name": "python",
   "nbconvert_exporter": "python",
   "pygments_lexer": "ipython3",
   "version": "3.7.4"
  }
 },
 "nbformat": 4,
 "nbformat_minor": 4
}
