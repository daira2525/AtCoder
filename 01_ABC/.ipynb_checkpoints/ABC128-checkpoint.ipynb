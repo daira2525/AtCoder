{
 "cells": [
  {
   "cell_type": "markdown",
   "metadata": {},
   "source": [
    "# ABC128\n",
    "## A - Apple Pie [問題](https://atcoder.jp/contests/abc128/tasks/abc128_a)"
   ]
  },
  {
   "cell_type": "code",
   "execution_count": 1,
   "metadata": {},
   "outputs": [
    {
     "name": "stdin",
     "output_type": "stream",
     "text": [
      " 2 3\n"
     ]
    },
    {
     "name": "stdout",
     "output_type": "stream",
     "text": [
      "4\n"
     ]
    }
   ],
   "source": [
    "a, p = map(int, input().split())\n",
    "print((3*a + p) // 2)"
   ]
  },
  {
   "cell_type": "markdown",
   "metadata": {},
   "source": [
    "## B - Guidebook [問題](https://atcoder.jp/contests/abc128/tasks/abc128_b)"
   ]
  },
  {
   "cell_type": "code",
   "execution_count": 7,
   "metadata": {},
   "outputs": [
    {
     "name": "stdin",
     "output_type": "stream",
     "text": [
      " 6\n",
      " khabarovsk 20\n",
      " moscow 10\n",
      " kazan 50\n",
      " kazan 35\n",
      " moscow 60\n",
      " khabarovsk 40\n"
     ]
    },
    {
     "name": "stdout",
     "output_type": "stream",
     "text": [
      "3\n",
      "4\n",
      "6\n",
      "1\n",
      "5\n",
      "2\n"
     ]
    }
   ],
   "source": [
    "n = int(input())\n",
    "r = []\n",
    "for i in range(n):\n",
    "    s, p = input().split()\n",
    "    r.append((i + 1, s, int(p)))\n",
    "r.sort(key=lambda x: (x[1], -x[2]))\n",
    "for ri in r:\n",
    "    print(ri[0])"
   ]
  }
 ],
 "metadata": {
  "kernelspec": {
   "display_name": "Python 3",
   "language": "python",
   "name": "python3"
  },
  "language_info": {
   "codemirror_mode": {
    "name": "ipython",
    "version": 3
   },
   "file_extension": ".py",
   "mimetype": "text/x-python",
   "name": "python",
   "nbconvert_exporter": "python",
   "pygments_lexer": "ipython3",
   "version": "3.7.4"
  }
 },
 "nbformat": 4,
 "nbformat_minor": 4
}
