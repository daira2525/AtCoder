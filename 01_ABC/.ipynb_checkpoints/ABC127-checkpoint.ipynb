{
 "cells": [
  {
   "cell_type": "markdown",
   "metadata": {},
   "source": [
    "# ABC127\n",
    "## A - Ferris Wheel [問題](https://atcoder.jp/contests/abc127/tasks/abc127_a)"
   ]
  },
  {
   "cell_type": "code",
   "execution_count": 5,
   "metadata": {},
   "outputs": [
    {
     "name": "stdin",
     "output_type": "stream",
     "text": [
      " 0 100\n"
     ]
    },
    {
     "name": "stdout",
     "output_type": "stream",
     "text": [
      "0\n"
     ]
    }
   ],
   "source": [
    "a, b = map(int, input().split())\n",
    "if a >= 13:\n",
    "    print(b)\n",
    "elif 6 <= a <= 12:\n",
    "    print(b // 2)\n",
    "else:\n",
    "    print(0)"
   ]
  },
  {
   "cell_type": "markdown",
   "metadata": {},
   "source": [
    "## B - Algae [問題](https://atcoder.jp/contests/abc127/tasks/abc127_b)"
   ]
  },
  {
   "cell_type": "code",
   "execution_count": 17,
   "metadata": {},
   "outputs": [
    {
     "name": "stdin",
     "output_type": "stream",
     "text": [
      " 4 40 60\n"
     ]
    },
    {
     "name": "stdout",
     "output_type": "stream",
     "text": [
      "200\n",
      "760\n",
      "3000\n",
      "11960\n",
      "47800\n",
      "191160\n",
      "764600\n",
      "3058360\n",
      "12233400\n",
      "48933560\n"
     ]
    }
   ],
   "source": [
    "r, d, x0 = map(int, input().split())\n",
    "x = [x0]\n",
    "for i in range(10):\n",
    "    x.append(r*x[-1] - d)\n",
    "print(*x[1:], sep='\\n')"
   ]
  },
  {
   "cell_type": "markdown",
   "metadata": {},
   "source": [
    "## C - Prison [問題](https://atcoder.jp/contests/abc127/tasks/abc127_c)"
   ]
  },
  {
   "cell_type": "code",
   "execution_count": 21,
   "metadata": {},
   "outputs": [
    {
     "name": "stdin",
     "output_type": "stream",
     "text": [
      " 100000 1\n",
      " 1 100000\n"
     ]
    },
    {
     "name": "stdout",
     "output_type": "stream",
     "text": [
      "100000\n"
     ]
    }
   ],
   "source": [
    "n, m = map(int, input().split())\n",
    "l, r = [0] * m, [0] * m\n",
    "for i in range(m):\n",
    "    l[i], r[i] = map(int, input().split())\n",
    "print(max(min(r) - max(l) + 1, 0))"
   ]
  }
 ],
 "metadata": {
  "kernelspec": {
   "display_name": "Python 3",
   "language": "python",
   "name": "python3"
  },
  "language_info": {
   "codemirror_mode": {
    "name": "ipython",
    "version": 3
   },
   "file_extension": ".py",
   "mimetype": "text/x-python",
   "name": "python",
   "nbconvert_exporter": "python",
   "pygments_lexer": "ipython3",
   "version": "3.7.4"
  }
 },
 "nbformat": 4,
 "nbformat_minor": 4
}
