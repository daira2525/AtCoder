{
 "cells": [
  {
   "cell_type": "markdown",
   "metadata": {},
   "source": [
    "# ABC173\n",
    "## A\n",
    "### Payment [問題](https://atcoder.jp/contests/abc173/tasks/abc173_a)"
   ]
  },
  {
   "cell_type": "code",
   "execution_count": 23,
   "metadata": {},
   "outputs": [
    {
     "name": "stdin",
     "output_type": "stream",
     "text": [
      " 2000\n"
     ]
    },
    {
     "name": "stdout",
     "output_type": "stream",
     "text": [
      "0\n"
     ]
    }
   ],
   "source": [
    "n = int(input())\n",
    "print(-(-n // 10**3)* 10**3 - n)"
   ]
  },
  {
   "cell_type": "code",
   "execution_count": null,
   "metadata": {},
   "outputs": [],
   "source": [
    "n = int(input())\n",
    "print((1000 - (n % 1000)) % 1000)"
   ]
  },
  {
   "cell_type": "markdown",
   "metadata": {},
   "source": [
    "## B\n",
    "### Judge Status Summary [問題](https://atcoder.jp/contests/abc173/tasks/abc173_b)"
   ]
  },
  {
   "cell_type": "code",
   "execution_count": 42,
   "metadata": {},
   "outputs": [
    {
     "name": "stdin",
     "output_type": "stream",
     "text": [
      " 3\n",
      " AC\n",
      " WA\n",
      " TLE\n"
     ]
    },
    {
     "name": "stdout",
     "output_type": "stream",
     "text": [
      "AC x 1\n",
      "WA x 1\n",
      "TLE x 1\n",
      "RE x 0\n"
     ]
    }
   ],
   "source": [
    "n = int(input())\n",
    "s = [input() for i in range(n)]\n",
    "for k in ['AC', 'WA', 'TLE', 'RE']:\n",
    "    print(k, 'x', s.count(k))"
   ]
  },
  {
   "cell_type": "markdown",
   "metadata": {},
   "source": [
    "## C\n",
    "### H and V [問題](https://atcoder.jp/contests/abc173/tasks/abc173_c)"
   ]
  },
  {
   "cell_type": "code",
   "execution_count": null,
   "metadata": {},
   "outputs": [],
   "source": [
    "from itertools import product\n",
    "h, w, k = map(int, input().split())\n",
    "c = [[1 if j == '#' else 0 for j in input()] for i in range(h)]\n",
    "cnt = 0\n",
    "for br in product([0, 1], repeat=h):\n",
    "    for bc in product([0, 1], repeat=w):\n",
    "        if sum(c[i][j]*br[i]*bc[j] for i, j in product(range(h), range(w))) == k:\n",
    "            cnt += 1\n",
    "print(cnt)"
   ]
  },
  {
   "cell_type": "markdown",
   "metadata": {},
   "source": [
    "## D\n",
    "### Chat in a Circle [問題](https://atcoder.jp/contests/abc173/tasks/abc173_d)"
   ]
  },
  {
   "cell_type": "code",
   "execution_count": null,
   "metadata": {},
   "outputs": [],
   "source": [
    "n = int(input())\n",
    "a = list(map(int, input().split()))\n",
    "print(sum(sorted(a * 2)[::-1][1:n]))"
   ]
  }
 ],
 "metadata": {
  "kernelspec": {
   "display_name": "Python 3",
   "language": "python",
   "name": "python3"
  },
  "language_info": {
   "codemirror_mode": {
    "name": "ipython",
    "version": 3
   },
   "file_extension": ".py",
   "mimetype": "text/x-python",
   "name": "python",
   "nbconvert_exporter": "python",
   "pygments_lexer": "ipython3",
   "version": "3.7.4"
  }
 },
 "nbformat": 4,
 "nbformat_minor": 4
}
