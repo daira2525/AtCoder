{
 "cells": [
  {
   "cell_type": "markdown",
   "metadata": {},
   "source": [
    "# ABC145\n",
    "## A\n",
    "### Circle [問題](https://atcoder.jp/contests/abc145/tasks/abc145_a)"
   ]
  },
  {
   "cell_type": "code",
   "execution_count": 29,
   "metadata": {},
   "outputs": [
    {
     "name": "stdin",
     "output_type": "stream",
     "text": [
      " 2\n"
     ]
    },
    {
     "name": "stdout",
     "output_type": "stream",
     "text": [
      "4\n"
     ]
    }
   ],
   "source": [
    "r = int(input())\n",
    "print(r**2)"
   ]
  },
  {
   "cell_type": "markdown",
   "metadata": {},
   "source": [
    "## B\n",
    "### Echo [問題](https://atcoder.jp/contests/abc145/tasks/abc145_b)"
   ]
  },
  {
   "cell_type": "code",
   "execution_count": 32,
   "metadata": {},
   "outputs": [
    {
     "name": "stdin",
     "output_type": "stream",
     "text": [
      " 6\n",
      " abcadc\n"
     ]
    },
    {
     "name": "stdout",
     "output_type": "stream",
     "text": [
      "No\n"
     ]
    }
   ],
   "source": [
    "n = int(input())\n",
    "s = input()\n",
    "print('Yes' if s[:n//2] == s[n//2:] else 'No')"
   ]
  },
  {
   "cell_type": "markdown",
   "metadata": {},
   "source": [
    "## C\n",
    "### Average Length [問題](https://atcoder.jp/contests/abc145/tasks/abc145_c)"
   ]
  },
  {
   "cell_type": "code",
   "execution_count": 37,
   "metadata": {},
   "outputs": [
    {
     "name": "stdin",
     "output_type": "stream",
     "text": [
      " 3\n",
      " 0 0\n",
      " 1 0\n",
      " 0 1\n"
     ]
    },
    {
     "name": "stdout",
     "output_type": "stream",
     "text": [
      "2.2761423749153966\n"
     ]
    }
   ],
   "source": [
    "from itertools import permutations\n",
    "from math import factorial\n",
    "n = int(input())\n",
    "t = [list(map(int, input().split())) for i in range(n)]\n",
    "ans = 0\n",
    "for p in permutations(range(n), n):\n",
    "    ans += sum(((t[p[i]][0] - t[p[i + 1]][0])**2 + (t[p[i]][1] - t[p[i + 1]][1])**2)**0.5 for i in range(n - 1))\n",
    "print(ans / factorial(n))"
   ]
  }
 ],
 "metadata": {
  "kernelspec": {
   "display_name": "Python 3",
   "language": "python",
   "name": "python3"
  },
  "language_info": {
   "codemirror_mode": {
    "name": "ipython",
    "version": 3
   },
   "file_extension": ".py",
   "mimetype": "text/x-python",
   "name": "python",
   "nbconvert_exporter": "python",
   "pygments_lexer": "ipython3",
   "version": "3.7.4"
  }
 },
 "nbformat": 4,
 "nbformat_minor": 4
}
