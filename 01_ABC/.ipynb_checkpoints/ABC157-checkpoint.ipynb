{
 "cells": [
  {
   "cell_type": "markdown",
   "metadata": {},
   "source": [
    "# ABC157\n",
    "## A - Duplex Printing [問題](https://atcoder.jp/contests/abc157/tasks/abc157_a)"
   ]
  },
  {
   "cell_type": "code",
   "execution_count": null,
   "metadata": {},
   "outputs": [],
   "source": [
    "n = int(input())\n",
    "print(-(-n // 2))"
   ]
  },
  {
   "cell_type": "markdown",
   "metadata": {},
   "source": [
    "## B - Bingo [問題](https://atcoder.jp/contests/abc157/tasks/abc157_b)"
   ]
  },
  {
   "cell_type": "code",
   "execution_count": 13,
   "metadata": {},
   "outputs": [
    {
     "name": "stdin",
     "output_type": "stream",
     "text": [
      " 41 7 46\n",
      " 26 89 2\n",
      " 78 92 8\n",
      " 5\n",
      " 6\n",
      " 45\n",
      " 16\n",
      " 57\n",
      " 17\n"
     ]
    },
    {
     "name": "stdout",
     "output_type": "stream",
     "text": [
      "No\n"
     ]
    }
   ],
   "source": [
    "def is_b(l):\n",
    "    return all([a[i][j] in b for i, j in l])\n",
    "\n",
    "a = [list(map(int, input().split())) for i in range(3)]\n",
    "n = int(input())\n",
    "b = [int(input()) for i in range(n)]\n",
    "t = [[(i, j) for j in range(3)] for i in range(3)]\n",
    "t += [[(j, i) for j in range(3)] for i in range(3)]\n",
    "t += [[(i, i) for i in range(3)]] + [[(2 - i, i) for i in range(3)]]\n",
    "print('Yes' if any([is_b(ti) for ti in t]) else 'No')"
   ]
  }
 ],
 "metadata": {
  "kernelspec": {
   "display_name": "Python 3",
   "language": "python",
   "name": "python3"
  },
  "language_info": {
   "codemirror_mode": {
    "name": "ipython",
    "version": 3
   },
   "file_extension": ".py",
   "mimetype": "text/x-python",
   "name": "python",
   "nbconvert_exporter": "python",
   "pygments_lexer": "ipython3",
   "version": "3.7.4"
  }
 },
 "nbformat": 4,
 "nbformat_minor": 4
}
