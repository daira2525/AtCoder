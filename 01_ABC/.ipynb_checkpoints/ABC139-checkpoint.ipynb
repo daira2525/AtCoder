{
 "cells": [
  {
   "cell_type": "markdown",
   "metadata": {},
   "source": [
    "# ABC139\n",
    "## A - Tenki [問題](https://atcoder.jp/contests/abc139/tasks/abc139_a)"
   ]
  },
  {
   "cell_type": "code",
   "execution_count": null,
   "metadata": {},
   "outputs": [],
   "source": [
    "s = input()\n",
    "t = input()\n",
    "print(sum(s[i] == t[i] for i in range(3)))"
   ]
  },
  {
   "cell_type": "markdown",
   "metadata": {},
   "source": [
    "## B - Power Socket [問題](https://atcoder.jp/contests/abc139/tasks/abc139_b)"
   ]
  },
  {
   "cell_type": "code",
   "execution_count": 106,
   "metadata": {},
   "outputs": [
    {
     "name": "stdin",
     "output_type": "stream",
     "text": [
      " 8 8\n"
     ]
    },
    {
     "name": "stdout",
     "output_type": "stream",
     "text": [
      "1\n"
     ]
    }
   ],
   "source": [
    "a, b = map(int, input().split())\n",
    "print(1 + -(-(b - a) // (a - 1)))"
   ]
  },
  {
   "cell_type": "markdown",
   "metadata": {},
   "source": [
    "## C - Lower [問題](https://atcoder.jp/contests/abc139/tasks/abc139_c)"
   ]
  },
  {
   "cell_type": "code",
   "execution_count": 6,
   "metadata": {},
   "outputs": [
    {
     "name": "stdin",
     "output_type": "stream",
     "text": [
      " 5\n",
      " 10 4 8 7 3\n"
     ]
    },
    {
     "name": "stdout",
     "output_type": "stream",
     "text": [
      "2\n"
     ]
    }
   ],
   "source": [
    "n = int(input())\n",
    "h = list(map(int, input().split()))\n",
    "max_cnt, cnt = 0, 0\n",
    "for i in range(n - 1):\n",
    "    if h[i] >= h[i + 1]:\n",
    "        cnt += 1\n",
    "    else:\n",
    "        cnt = 0\n",
    "    max_cnt = max(max_cnt, cnt)\n",
    "print(max_cnt)"
   ]
  }
 ],
 "metadata": {
  "kernelspec": {
   "display_name": "Python 3",
   "language": "python",
   "name": "python3"
  },
  "language_info": {
   "codemirror_mode": {
    "name": "ipython",
    "version": 3
   },
   "file_extension": ".py",
   "mimetype": "text/x-python",
   "name": "python",
   "nbconvert_exporter": "python",
   "pygments_lexer": "ipython3",
   "version": "3.7.4"
  }
 },
 "nbformat": 4,
 "nbformat_minor": 4
}
