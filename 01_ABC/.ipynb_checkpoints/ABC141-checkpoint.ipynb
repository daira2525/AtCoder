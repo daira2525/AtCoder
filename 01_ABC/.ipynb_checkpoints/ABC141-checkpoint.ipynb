{
 "cells": [
  {
   "cell_type": "markdown",
   "metadata": {},
   "source": [
    "# ABC141\n",
    "## A\n",
    "### Weather Prediction [問題](https://atcoder.jp/contests/abc141/tasks/abc141_a)"
   ]
  },
  {
   "cell_type": "code",
   "execution_count": 29,
   "metadata": {},
   "outputs": [
    {
     "name": "stdin",
     "output_type": "stream",
     "text": [
      " Rainy\n"
     ]
    },
    {
     "name": "stdout",
     "output_type": "stream",
     "text": [
      "Sunny\n"
     ]
    }
   ],
   "source": [
    "c = ['Sunny', 'Cloudy', 'Rainy']\n",
    "s = input()\n",
    "print(c[(c.index(s) + 1) % 3])"
   ]
  },
  {
   "cell_type": "markdown",
   "metadata": {},
   "source": [
    "## B\n",
    "### Tap Dance [問題](https://atcoder.jp/contests/abc141/tasks/abc141_b)"
   ]
  },
  {
   "cell_type": "code",
   "execution_count": 41,
   "metadata": {},
   "outputs": [
    {
     "name": "stdin",
     "output_type": "stream",
     "text": [
      " DULL\n"
     ]
    },
    {
     "name": "stdout",
     "output_type": "stream",
     "text": [
      "No\n"
     ]
    }
   ],
   "source": [
    "s = input()\n",
    "print('No' if 'L' in s[::2] or 'R' in s[1::2] else 'Yes')"
   ]
  },
  {
   "cell_type": "markdown",
   "metadata": {},
   "source": [
    "## C\n",
    "### Attack Survival [問題](https://atcoder.jp/contests/abc141/tasks/abc141_c)"
   ]
  },
  {
   "cell_type": "code",
   "execution_count": 54,
   "metadata": {},
   "outputs": [
    {
     "name": "stdin",
     "output_type": "stream",
     "text": [
      " 6 3 4\n",
      " 3\n",
      " 1\n",
      " 3\n",
      " 2\n"
     ]
    },
    {
     "name": "stdout",
     "output_type": "stream",
     "text": [
      "No\n",
      "No\n",
      "Yes\n",
      "No\n",
      "No\n",
      "No\n"
     ]
    }
   ],
   "source": [
    "n, k, q = map(int, input().split())\n",
    "a = [int(input()) for i in range(q)]\n",
    "c = [0] * n\n",
    "for ai in a:\n",
    "    c[ai - 1] += 1\n",
    "ans = ['Yes' if k - q + ci > 0 else 'No' for ci in c]\n",
    "print(*ans, sep='\\n')"
   ]
  }
 ],
 "metadata": {
  "kernelspec": {
   "display_name": "Python 3",
   "language": "python",
   "name": "python3"
  },
  "language_info": {
   "codemirror_mode": {
    "name": "ipython",
    "version": 3
   },
   "file_extension": ".py",
   "mimetype": "text/x-python",
   "name": "python",
   "nbconvert_exporter": "python",
   "pygments_lexer": "ipython3",
   "version": "3.7.4"
  }
 },
 "nbformat": 4,
 "nbformat_minor": 4
}
