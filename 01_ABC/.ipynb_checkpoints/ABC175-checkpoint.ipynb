{
 "cells": [
  {
   "cell_type": "markdown",
   "metadata": {},
   "source": [
    "# ABC175\n",
    "## A\n",
    "### Rainy Season [問題](https://atcoder.jp/contests/abc175/tasks/abc175_a)"
   ]
  },
  {
   "cell_type": "code",
   "execution_count": 11,
   "metadata": {},
   "outputs": [
    {
     "name": "stdin",
     "output_type": "stream",
     "text": [
      " SRS\n"
     ]
    },
    {
     "name": "stdout",
     "output_type": "stream",
     "text": [
      "1\n"
     ]
    }
   ],
   "source": [
    "s = input()\n",
    "cnt, max_c = 0, 0\n",
    "for si in s:\n",
    "    if si == 'R':\n",
    "        cnt += 1\n",
    "    max_c = max(max_c, cnt)\n",
    "    if si != 'R':\n",
    "        cnt = 0\n",
    "print(max_c)"
   ]
  },
  {
   "cell_type": "markdown",
   "metadata": {},
   "source": [
    "## B\n",
    "### Making Triangle [問題](https://atcoder.jp/contests/abc175/tasks/abc175_b)"
   ]
  },
  {
   "cell_type": "code",
   "execution_count": 37,
   "metadata": {},
   "outputs": [
    {
     "name": "stdin",
     "output_type": "stream",
     "text": [
      " 10\n",
      " 9 4 6 1 9 6 10 6 6 8\n"
     ]
    },
    {
     "name": "stdout",
     "output_type": "stream",
     "text": [
      "39\n"
     ]
    }
   ],
   "source": [
    "n = int(input())\n",
    "l = sorted(list(map(int, input().split())))\n",
    "cnt = 0\n",
    "for i in range(n):\n",
    "    for j in range(i + 1, n):\n",
    "        for k in range(j + 1, n):\n",
    "            if len(set([l[i], l[j], l[k]])) != 3:\n",
    "                continue\n",
    "            if l[k] < l[i] + l[j]:\n",
    "                cnt += 1\n",
    "print(cnt)"
   ]
  },
  {
   "cell_type": "markdown",
   "metadata": {},
   "source": [
    "## C\n",
    "### Walking Takahashi [問題](https://atcoder.jp/contests/abc175/tasks/abc175_c)"
   ]
  },
  {
   "cell_type": "code",
   "execution_count": 35,
   "metadata": {},
   "outputs": [
    {
     "name": "stdin",
     "output_type": "stream",
     "text": [
      " 1000000000000000 1000000000000000 1000000000000000\n"
     ]
    },
    {
     "name": "stdout",
     "output_type": "stream",
     "text": [
      "1000000000000000\n"
     ]
    }
   ],
   "source": [
    "x, k, d = map(int, input().split())\n",
    "if x < 0:\n",
    "    x *= -1\n",
    "if x - k*d > 0:\n",
    "    print(x - k*d)\n",
    "else:\n",
    "    print(d - x%d if (x//d - k) % 2 else x%d)"
   ]
  }
 ],
 "metadata": {
  "kernelspec": {
   "display_name": "Python 3",
   "language": "python",
   "name": "python3"
  },
  "language_info": {
   "codemirror_mode": {
    "name": "ipython",
    "version": 3
   },
   "file_extension": ".py",
   "mimetype": "text/x-python",
   "name": "python",
   "nbconvert_exporter": "python",
   "pygments_lexer": "ipython3",
   "version": "3.7.4"
  }
 },
 "nbformat": 4,
 "nbformat_minor": 4
}
