{
 "cells": [
  {
   "cell_type": "markdown",
   "metadata": {},
   "source": [
    "# ABC166\n",
    "## A - A?C [問題](https://atcoder.jp/contests/abc166/tasks/abc166_a)"
   ]
  },
  {
   "cell_type": "code",
   "execution_count": null,
   "metadata": {},
   "outputs": [],
   "source": [
    "s = input()\n",
    "print('ARC' if s == 'ABC' else 'ABC')"
   ]
  },
  {
   "cell_type": "markdown",
   "metadata": {},
   "source": [
    "## B - Trick or Treat [問題](https://atcoder.jp/contests/abc166/tasks/abc166_b)"
   ]
  },
  {
   "cell_type": "code",
   "execution_count": 39,
   "metadata": {},
   "outputs": [
    {
     "name": "stdin",
     "output_type": "stream",
     "text": [
      " 3 3\n",
      " 1\n",
      " 3\n",
      " 1\n",
      " 3\n",
      " 1\n",
      " 3\n"
     ]
    },
    {
     "name": "stdout",
     "output_type": "stream",
     "text": [
      "2\n"
     ]
    }
   ],
   "source": [
    "n, k = map(int, input().split())\n",
    "a = set()\n",
    "for i in range(k):\n",
    "    d = input()\n",
    "    a |= set(map(int, input().split()))\n",
    "print(n - len(a))"
   ]
  },
  {
   "cell_type": "markdown",
   "metadata": {},
   "source": [
    "## C - Peaks [問題](https://atcoder.jp/contests/abc166/tasks/abc166_c)"
   ]
  },
  {
   "cell_type": "code",
   "execution_count": 57,
   "metadata": {},
   "outputs": [
    {
     "name": "stdin",
     "output_type": "stream",
     "text": [
      " 4 3\n",
      " 1 2 3 4\n",
      " 1 3\n",
      " 2 3\n",
      " 2 4\n"
     ]
    },
    {
     "name": "stdout",
     "output_type": "stream",
     "text": [
      "2\n"
     ]
    }
   ],
   "source": [
    "n, m = map(int, input().split())\n",
    "h = list(map(int, input().split()))\n",
    "to = [[] for i in range(n)]\n",
    "for i in range(m):\n",
    "    a, b = map(int, input().split())\n",
    "    to[a - 1] += [b - 1]\n",
    "    to[b - 1] += [a - 1]\n",
    "print(sum(to[j] == [] or h[j] > max(h[i] for i in to[j]) for j in range(n)))"
   ]
  },
  {
   "cell_type": "code",
   "execution_count": 60,
   "metadata": {},
   "outputs": [
    {
     "name": "stdin",
     "output_type": "stream",
     "text": [
      " 4 3\n",
      " 1 2 3 4\n",
      " 1 3\n",
      " 2 3\n",
      " 2 4\n"
     ]
    },
    {
     "name": "stdout",
     "output_type": "stream",
     "text": [
      "2\n"
     ]
    }
   ],
   "source": [
    "n, m = map(int, input().split())\n",
    "h = list(map(int, input().split()))\n",
    "mh = [0] * n\n",
    "for i in range(m):\n",
    "    a, b = map(int, input().split())\n",
    "    mh[a - 1] = max(mh[a - 1], h[b - 1])\n",
    "    mh[b - 1] = max(mh[b - 1], h[a - 1])\n",
    "print(sum(h[i] > mh[i] for i in range(n)))"
   ]
  }
 ],
 "metadata": {
  "kernelspec": {
   "display_name": "Python 3",
   "language": "python",
   "name": "python3"
  },
  "language_info": {
   "codemirror_mode": {
    "name": "ipython",
    "version": 3
   },
   "file_extension": ".py",
   "mimetype": "text/x-python",
   "name": "python",
   "nbconvert_exporter": "python",
   "pygments_lexer": "ipython3",
   "version": "3.7.4"
  }
 },
 "nbformat": 4,
 "nbformat_minor": 4
}
