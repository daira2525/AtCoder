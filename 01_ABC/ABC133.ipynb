{
 "cells": [
  {
   "cell_type": "markdown",
   "metadata": {},
   "source": [
    "# ABC133\n",
    "## A\n",
    "### T or T [問題](https://atcoder.jp/contests/abc133/tasks/abc133_a)"
   ]
  },
  {
   "cell_type": "code",
   "execution_count": 11,
   "metadata": {},
   "outputs": [
    {
     "name": "stdin",
     "output_type": "stream",
     "text": [
      " 4 2 7\n"
     ]
    },
    {
     "name": "stdout",
     "output_type": "stream",
     "text": [
      "7\n"
     ]
    }
   ],
   "source": [
    "n, a, b = map(int, input().split())\n",
    "print(min(a*n, b))"
   ]
  },
  {
   "cell_type": "markdown",
   "metadata": {},
   "source": [
    "## B\n",
    "### Good Distance [問題](https://atcoder.jp/contests/abc133/tasks/abc133_b)"
   ]
  },
  {
   "cell_type": "code",
   "execution_count": 22,
   "metadata": {},
   "outputs": [
    {
     "name": "stdin",
     "output_type": "stream",
     "text": [
      " 5 1\n",
      " 1\n",
      " 2 \n",
      " 3\n",
      " 4\n",
      " 5\n"
     ]
    },
    {
     "name": "stdout",
     "output_type": "stream",
     "text": [
      "10\n"
     ]
    }
   ],
   "source": [
    "n, d = map(int, input().split())\n",
    "p = [list(map(int, input().split())) for i in range(n)]\n",
    "cnt = 0\n",
    "for i in range(n):\n",
    "    for j in range(i + 1, n):\n",
    "        dist = 0\n",
    "        for k in range(d):\n",
    "            dist += (p[i][k] - p[j][k])**2\n",
    "        if int(dist**0.5) == dist**0.5:\n",
    "            cnt += 1\n",
    "print(cnt)"
   ]
  }
 ],
 "metadata": {
  "kernelspec": {
   "display_name": "Python 3",
   "language": "python",
   "name": "python3"
  },
  "language_info": {
   "codemirror_mode": {
    "name": "ipython",
    "version": 3
   },
   "file_extension": ".py",
   "mimetype": "text/x-python",
   "name": "python",
   "nbconvert_exporter": "python",
   "pygments_lexer": "ipython3",
   "version": "3.7.4"
  }
 },
 "nbformat": 4,
 "nbformat_minor": 4
}
