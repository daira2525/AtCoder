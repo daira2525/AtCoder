{
 "cells": [
  {
   "cell_type": "markdown",
   "metadata": {},
   "source": [
    "# ABC012\n",
    "## A\n",
    "### スワップ [問題](https://atcoder.jp/contests/abc012/tasks/abc012_1)"
   ]
  },
  {
   "cell_type": "code",
   "execution_count": 1,
   "metadata": {},
   "outputs": [
    {
     "name": "stdin",
     "output_type": "stream",
     "text": [
      " 2 3\n"
     ]
    },
    {
     "name": "stdout",
     "output_type": "stream",
     "text": [
      "3 2\n"
     ]
    }
   ],
   "source": [
    "a, b = map(int, input().split())\n",
    "a, b = b, a\n",
    "print(a, b)"
   ]
  },
  {
   "cell_type": "markdown",
   "metadata": {},
   "source": [
    "## B\n",
    "### 入浴時間 [問題](https://atcoder.jp/contests/abc012/tasks/abc012_2)"
   ]
  },
  {
   "cell_type": "code",
   "execution_count": 5,
   "metadata": {},
   "outputs": [
    {
     "name": "stdin",
     "output_type": "stream",
     "text": [
      " 86399\n"
     ]
    },
    {
     "name": "stdout",
     "output_type": "stream",
     "text": [
      "23:59:59\n"
     ]
    }
   ],
   "source": [
    "n = int(input())\n",
    "ss = n % 60\n",
    "mm = n//60 % 60\n",
    "hh = n//60 // 60\n",
    "print(f'{hh:02}:{mm:02}:{ss:02}')"
   ]
  },
  {
   "cell_type": "markdown",
   "metadata": {},
   "source": [
    "## C\n",
    "### 九九足し算 [問題](https://atcoder.jp/contests/abc012/tasks/abc012_3)"
   ]
  },
  {
   "cell_type": "code",
   "execution_count": 10,
   "metadata": {},
   "outputs": [
    {
     "name": "stdin",
     "output_type": "stream",
     "text": [
      " 2013\n"
     ]
    },
    {
     "name": "stdout",
     "output_type": "stream",
     "text": [
      "2 x 6\n",
      "3 x 4\n",
      "4 x 3\n",
      "6 x 2\n"
     ]
    }
   ],
   "source": [
    "n = int(input())\n",
    "skip = 2025 - n\n",
    "for i in range(1, 10):\n",
    "    for j in range(1, 10):\n",
    "        if i*j == skip:\n",
    "            print(i, 'x', j)"
   ]
  },
  {
   "cell_type": "code",
   "execution_count": 1,
   "metadata": {},
   "outputs": [
    {
     "name": "stdin",
     "output_type": "stream",
     "text": [
      " 2013\n"
     ]
    },
    {
     "name": "stdout",
     "output_type": "stream",
     "text": [
      "2 x 6\n",
      "3 x 4\n",
      "4 x 3\n",
      "6 x 2\n"
     ]
    }
   ],
   "source": [
    "n = int(input())\n",
    "skip = 2025 - n\n",
    "for i in range(1, 10):\n",
    "    if skip % i == 0 and skip // i < 10:\n",
    "            print(i, 'x', skip // i)"
   ]
  },
  {
   "cell_type": "markdown",
   "metadata": {},
   "source": [
    "## D\n",
    "### バスと避けられない運命 [問題](https://atcoder.jp/contests/abc012/tasks/abc012_4)"
   ]
  },
  {
   "cell_type": "code",
   "execution_count": 12,
   "metadata": {},
   "outputs": [
    {
     "name": "stdin",
     "output_type": "stream",
     "text": [
      " 5 5\n",
      " 1 2 12\n",
      " 2 3 14\n",
      " 3 4 7\n",
      " 4 5 9\n",
      " 5 1 18\n"
     ]
    },
    {
     "name": "stdout",
     "output_type": "stream",
     "text": [
      "26\n"
     ]
    }
   ],
   "source": [
    "import heapq\n",
    "def dijkstra(s):\n",
    "    search = [(0, s)]\n",
    "    heapq.heapify(search)\n",
    "    cost = [float('inf')] * n\n",
    "    cost[s] = 0\n",
    "    while search:\n",
    "        c, v = heapq.heappop(search)\n",
    "        if c > cost[v]:\n",
    "            continue\n",
    "        for d, u in e[v]:\n",
    "            tmp = d + cost[v]\n",
    "            if tmp < cost[u]:\n",
    "                cost[u] = tmp\n",
    "                heapq.heappush(search, (tmp, u))\n",
    "    return cost\n",
    "\n",
    "n, m = map(int, input().split())\n",
    "e = [[] for i in range(n)]\n",
    "for i in range(m):\n",
    "    a, b, t = map(int, input().split())\n",
    "    a -= 1\n",
    "    b -= 1\n",
    "    e[a] += [(t, b)]\n",
    "    e[b] += [(t, a)]\n",
    "print(min(max(dijkstra(i)) for i in range(n)))"
   ]
  }
 ],
 "metadata": {
  "kernelspec": {
   "display_name": "Python 3",
   "language": "python",
   "name": "python3"
  },
  "language_info": {
   "codemirror_mode": {
    "name": "ipython",
    "version": 3
   },
   "file_extension": ".py",
   "mimetype": "text/x-python",
   "name": "python",
   "nbconvert_exporter": "python",
   "pygments_lexer": "ipython3",
   "version": "3.7.4"
  }
 },
 "nbformat": 4,
 "nbformat_minor": 4
}
