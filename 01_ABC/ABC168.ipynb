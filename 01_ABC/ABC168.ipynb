{
 "cells": [
  {
   "cell_type": "markdown",
   "metadata": {},
   "source": [
    "# ABC168\n",
    "## A - ∴ (Therefore) [問題](https://atcoder.jp/contests/abc168/tasks/abc168_a)"
   ]
  },
  {
   "cell_type": "code",
   "execution_count": 4,
   "metadata": {},
   "outputs": [
    {
     "name": "stdin",
     "output_type": "stream",
     "text": [
      " 183\n"
     ]
    },
    {
     "name": "stdout",
     "output_type": "stream",
     "text": [
      "bon\n"
     ]
    }
   ],
   "source": [
    "n = int(input())\n",
    "p = {'hon': {2, 4, 5, 7, 9}, 'pon': {0, 1, 6, 8}, 'bon': {3}}\n",
    "for k, v in p.items():\n",
    "    if n % 10 in v:\n",
    "        print(k)"
   ]
  },
  {
   "cell_type": "markdown",
   "metadata": {},
   "source": [
    "## B - ... (Triple Dots) [問題](https://atcoder.jp/contests/abc168/tasks/abc168_b)"
   ]
  },
  {
   "cell_type": "code",
   "execution_count": 6,
   "metadata": {},
   "outputs": [
    {
     "name": "stdin",
     "output_type": "stream",
     "text": [
      " 40\n",
      " ferelibenterhominesidquodvoluntcredunt\n"
     ]
    },
    {
     "name": "stdout",
     "output_type": "stream",
     "text": [
      "ferelibenterhominesidquodvoluntcredunt\n"
     ]
    }
   ],
   "source": [
    "k = int(input())\n",
    "s = input()\n",
    "print(s if len(s) <= k else s[:k] + '...')"
   ]
  }
 ],
 "metadata": {
  "kernelspec": {
   "display_name": "Python 3",
   "language": "python",
   "name": "python3"
  },
  "language_info": {
   "codemirror_mode": {
    "name": "ipython",
    "version": 3
   },
   "file_extension": ".py",
   "mimetype": "text/x-python",
   "name": "python",
   "nbconvert_exporter": "python",
   "pygments_lexer": "ipython3",
   "version": "3.7.4"
  }
 },
 "nbformat": 4,
 "nbformat_minor": 4
}
