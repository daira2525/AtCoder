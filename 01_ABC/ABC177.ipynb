{
 "cells": [
  {
   "cell_type": "markdown",
   "metadata": {},
   "source": [
    "# ABC177\n",
    "## A\n",
    "### Don't be late [問題](https://atcoder.jp/contests/abc177/tasks/abc177_a)"
   ]
  },
  {
   "cell_type": "code",
   "execution_count": 1,
   "metadata": {},
   "outputs": [
    {
     "name": "stdin",
     "output_type": "stream",
     "text": [
      " 1000 15 80\n"
     ]
    },
    {
     "name": "stdout",
     "output_type": "stream",
     "text": [
      "Yes\n"
     ]
    }
   ],
   "source": [
    "d, t, s = map(int, input().split())\n",
    "print('Yes' if d <= t*s else 'No')"
   ]
  },
  {
   "cell_type": "markdown",
   "metadata": {},
   "source": [
    "## B\n",
    "### Substring [問題](https://atcoder.jp/contests/abc177/tasks/abc177_b)"
   ]
  },
  {
   "cell_type": "code",
   "execution_count": 3,
   "metadata": {},
   "outputs": [
    {
     "name": "stdin",
     "output_type": "stream",
     "text": [
      " codeforces\n",
      " atcoder\n"
     ]
    },
    {
     "name": "stdout",
     "output_type": "stream",
     "text": [
      "6\n"
     ]
    }
   ],
   "source": [
    "s, t = input(), input()\n",
    "n, m = len(s), len(t)\n",
    "print(min(sum(t[j] != s[i + j] for j in range(m)) for i in range(n - m + 1)))"
   ]
  },
  {
   "cell_type": "markdown",
   "metadata": {},
   "source": [
    "## C\n",
    "### Sum of product of pairs [問題](https://atcoder.jp/contests/abc177/tasks/abc177_c)"
   ]
  },
  {
   "cell_type": "code",
   "execution_count": 5,
   "metadata": {},
   "outputs": [
    {
     "name": "stdin",
     "output_type": "stream",
     "text": [
      " 4\n",
      " 141421356 17320508 22360679 244949\n"
     ]
    },
    {
     "name": "stdout",
     "output_type": "stream",
     "text": [
      "437235829\n"
     ]
    }
   ],
   "source": [
    "MOD = 10**9 + 7\n",
    "n = int(input())\n",
    "a = list(map(int, input().split()))\n",
    "ans, s = 0, sum(a) % MOD\n",
    "for i in range(n - 1):\n",
    "    s -= a[i] % MOD\n",
    "    ans += a[i] * s % MOD\n",
    "print(ans % MOD)"
   ]
  }
 ],
 "metadata": {
  "kernelspec": {
   "display_name": "Python 3",
   "language": "python",
   "name": "python3"
  },
  "language_info": {
   "codemirror_mode": {
    "name": "ipython",
    "version": 3
   },
   "file_extension": ".py",
   "mimetype": "text/x-python",
   "name": "python",
   "nbconvert_exporter": "python",
   "pygments_lexer": "ipython3",
   "version": "3.7.4"
  }
 },
 "nbformat": 4,
 "nbformat_minor": 4
}
