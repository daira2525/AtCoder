{
 "cells": [
  {
   "cell_type": "markdown",
   "metadata": {},
   "source": [
    "# ABC177\n",
    "## A\n",
    "### Don't be late [問題](https://atcoder.jp/contests/abc177/tasks/abc177_a)"
   ]
  },
  {
   "cell_type": "code",
   "execution_count": 1,
   "metadata": {},
   "outputs": [
    {
     "name": "stdin",
     "output_type": "stream",
     "text": [
      " 1000 15 80\n"
     ]
    },
    {
     "name": "stdout",
     "output_type": "stream",
     "text": [
      "Yes\n"
     ]
    }
   ],
   "source": [
    "d, t, s = map(int, input().split())\n",
    "print('Yes' if d <= t*s else 'No')"
   ]
  },
  {
   "cell_type": "markdown",
   "metadata": {},
   "source": [
    "## B\n",
    "### Substring [問題](https://atcoder.jp/contests/abc177/tasks/abc177_b)"
   ]
  },
  {
   "cell_type": "code",
   "execution_count": 3,
   "metadata": {},
   "outputs": [
    {
     "name": "stdin",
     "output_type": "stream",
     "text": [
      " codeforces\n",
      " atcoder\n"
     ]
    },
    {
     "name": "stdout",
     "output_type": "stream",
     "text": [
      "6\n"
     ]
    }
   ],
   "source": [
    "s, t = input(), input()\n",
    "n, m = len(s), len(t)\n",
    "print(min(sum(t[j] != s[i + j] for j in range(m)) for i in range(n - m + 1)))"
   ]
  },
  {
   "cell_type": "markdown",
   "metadata": {},
   "source": [
    "## C\n",
    "### Sum of product of pairs [問題](https://atcoder.jp/contests/abc177/tasks/abc177_c)"
   ]
  },
  {
   "cell_type": "code",
   "execution_count": 5,
   "metadata": {},
   "outputs": [
    {
     "name": "stdin",
     "output_type": "stream",
     "text": [
      " 4\n",
      " 141421356 17320508 22360679 244949\n"
     ]
    },
    {
     "name": "stdout",
     "output_type": "stream",
     "text": [
      "437235829\n"
     ]
    }
   ],
   "source": [
    "MOD = 10**9 + 7\n",
    "n = int(input())\n",
    "a = list(map(int, input().split()))\n",
    "ans, s = 0, sum(a) % MOD\n",
    "for i in range(n - 1):\n",
    "    s -= a[i] % MOD\n",
    "    ans += a[i] * s % MOD\n",
    "print(ans % MOD)"
   ]
  },
  {
   "cell_type": "markdown",
   "metadata": {},
   "source": [
    "## D\n",
    "### Friends [問題](https://atcoder.jp/contests/abc177/tasks/abc177_d)"
   ]
  },
  {
   "cell_type": "code",
   "execution_count": 3,
   "metadata": {},
   "outputs": [
    {
     "name": "stdin",
     "output_type": "stream",
     "text": [
      " 10 4\n",
      " 3 1\n",
      " 4 1\n",
      " 5 9\n",
      " 2 6\n"
     ]
    },
    {
     "name": "stdout",
     "output_type": "stream",
     "text": [
      "3\n"
     ]
    }
   ],
   "source": [
    "# UnionFind: https://note.nkmk.me/python-union-find/\n",
    "class UnionFind():\n",
    "    def __init__(self, n):\n",
    "        self.n = n\n",
    "        self.root = [-1] * (n + 1)\n",
    "        \n",
    "    def find(self, x):\n",
    "        if self.root[x] < 0:\n",
    "            return x\n",
    "        else:\n",
    "            self.root[x] = self.find(self.root[x])\n",
    "            return self.root[x]\n",
    "    \n",
    "    def unite(self, x, y):\n",
    "        x = self.find(x)\n",
    "        y = self.find(y)\n",
    "        if x == y:\n",
    "            return False\n",
    "        if self.root[x] > self.root[y]:\n",
    "            x, y = y, x\n",
    "        self.root[x] += self.root[y]\n",
    "        self.root[y] = x\n",
    "        \n",
    "    def is_same(self, x, y):\n",
    "        return self.find(x) == self.find(y)\n",
    "    \n",
    "    def size(self, x):\n",
    "        return -self.root[self.find(x)]\n",
    "\n",
    "n, m = map(int, input().split())\n",
    "friends = UnionFind(n)\n",
    "for i in range(m):\n",
    "    a, b = map(int, input().split())\n",
    "    friends.unite(a, b)\n",
    "print(max(friends.size(i) for i in range(n)))"
   ]
  }
 ],
 "metadata": {
  "kernelspec": {
   "display_name": "Python 3",
   "language": "python",
   "name": "python3"
  },
  "language_info": {
   "codemirror_mode": {
    "name": "ipython",
    "version": 3
   },
   "file_extension": ".py",
   "mimetype": "text/x-python",
   "name": "python",
   "nbconvert_exporter": "python",
   "pygments_lexer": "ipython3",
   "version": "3.7.4"
  }
 },
 "nbformat": 4,
 "nbformat_minor": 4
}
